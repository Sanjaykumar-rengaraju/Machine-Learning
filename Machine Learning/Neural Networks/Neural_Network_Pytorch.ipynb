{
  "nbformat": 4,
  "nbformat_minor": 0,
  "metadata": {
    "colab": {
      "provenance": [],
      "authorship_tag": "ABX9TyO8G6VGlg7t8817bCnP5xZe",
      "include_colab_link": true
    },
    "kernelspec": {
      "name": "python3",
      "display_name": "Python 3"
    },
    "language_info": {
      "name": "python"
    }
  },
  "cells": [
    {
      "cell_type": "markdown",
      "metadata": {
        "id": "view-in-github",
        "colab_type": "text"
      },
      "source": [
        "<a href=\"https://colab.research.google.com/github/ezioauditore-tech/AI/blob/main/Neural_Network_Pytorch.ipynb\" target=\"_parent\"><img src=\"https://colab.research.google.com/assets/colab-badge.svg\" alt=\"Open In Colab\"/></a>"
      ]
    },
    {
      "cell_type": "markdown",
      "source": [
        "# *A simple neural network in PyTorch*"
      ],
      "metadata": {
        "id": "OIqYTw0IDCXR"
      }
    },
    {
      "cell_type": "markdown",
      "source": [
        "### Install Pytorch -https://pytorch.org/"
      ],
      "metadata": {
        "id": "pAFOzmiVDOYR"
      }
    },
    {
      "cell_type": "code",
      "source": [
        "#Import Pytorch\n",
        "import torch\n",
        "import torchvision.datasets as datasets\n",
        "import torchvision.transforms as transforms\n",
        "import torch.nn as nn\n",
        "import torch.optim as optim"
      ],
      "metadata": {
        "id": "t8hOi-DxDNbq"
      },
      "execution_count": 17,
      "outputs": []
    },
    {
      "cell_type": "markdown",
      "source": [
        "### Load and prepare the training data"
      ],
      "metadata": {
        "id": "-yr_BWuuMkgC"
      }
    },
    {
      "cell_type": "code",
      "source": [
        "transform=transforms.Compose([transforms.ToTensor(),\n",
        "                              transforms.Normalize((0.1307,),(0.3081,))])\n",
        "train_dataset=datasets.MNIST('data',train=True,download=True,transform=transform)\n",
        "train_loader=torch.utils.data.DataLoader(train_dataset,batch_size=64,shuffle=True)\n"
      ],
      "metadata": {
        "id": "4UHREwhWSEwx"
      },
      "execution_count": 18,
      "outputs": []
    },
    {
      "cell_type": "markdown",
      "source": [
        "### Define the model"
      ],
      "metadata": {
        "id": "kxNShGWFWwnH"
      }
    },
    {
      "cell_type": "code",
      "source": [
        "class Neural(nn.Module):\n",
        "  def __init__(self):\n",
        "    super(Neural,self).__init__()\n",
        "    self.fc1=nn.Linear(28*28,128)\n",
        "    self.fc2=nn.Linear(128,10)\n",
        "  def forward(self,x):\n",
        "    x=x.view(-1,28*28)\n",
        "    x=torch.relu(self.fc1(x))\n",
        "    x=self.fc2(x)\n",
        "    return x\n",
        "net=Neural()"
      ],
      "metadata": {
        "id": "skqjkRlCW5b7"
      },
      "execution_count": 19,
      "outputs": []
    },
    {
      "cell_type": "markdown",
      "source": [
        "### Define the loss function and Optimizer"
      ],
      "metadata": {
        "id": "VGWk_TMkYitU"
      }
    },
    {
      "cell_type": "code",
      "source": [
        "criterion=nn.CrossEntropyLoss()\n",
        "optimizer=optim.SGD(net.parameters(),lr=0.01,momentum=0.5)\n"
      ],
      "metadata": {
        "id": "Ka713-vVYiNk"
      },
      "execution_count": 20,
      "outputs": []
    },
    {
      "cell_type": "markdown",
      "source": [
        "### Train the model"
      ],
      "metadata": {
        "id": "PT4ffOagzALH"
      }
    },
    {
      "cell_type": "code",
      "source": [
        "num_epochs=10\n",
        "for epoch in range(num_epochs):\n",
        "  for batch_idx,(data,target) in enumerate (train_loader):\n",
        "    optimizer.zero_grad()\n",
        "    output=net(data)\n",
        "    loss =criterion(output,target)\n",
        "    loss.backward()\n",
        "    optimizer.step()\n",
        "    if batch_idx % 100==0:\n",
        "      print('Train Epoch: {} [{}/{} ({:.0f}%)]\\tLoss: {:.6f}'.format(\n",
        "                epoch, batch_idx * len(data), len(train_loader.dataset),\n",
        "                100. * batch_idx / len(train_loader), loss.item()))\n"
      ],
      "metadata": {
        "colab": {
          "base_uri": "https://localhost:8080/"
        },
        "id": "1TSC7eFIX4Jy",
        "outputId": "de746264-f42b-4841-9f94-8e09023125a2"
      },
      "execution_count": 21,
      "outputs": [
        {
          "output_type": "stream",
          "name": "stdout",
          "text": [
            "Train Epoch: 0 [0/60000 (0%)]\tLoss: 2.397720\n",
            "Train Epoch: 0 [6400/60000 (11%)]\tLoss: 0.707842\n",
            "Train Epoch: 0 [12800/60000 (21%)]\tLoss: 0.566507\n",
            "Train Epoch: 0 [19200/60000 (32%)]\tLoss: 0.351497\n",
            "Train Epoch: 0 [25600/60000 (43%)]\tLoss: 0.400078\n",
            "Train Epoch: 0 [32000/60000 (53%)]\tLoss: 0.270627\n",
            "Train Epoch: 0 [38400/60000 (64%)]\tLoss: 0.395107\n",
            "Train Epoch: 0 [44800/60000 (75%)]\tLoss: 0.323966\n",
            "Train Epoch: 0 [51200/60000 (85%)]\tLoss: 0.216832\n",
            "Train Epoch: 0 [57600/60000 (96%)]\tLoss: 0.339805\n",
            "Train Epoch: 1 [0/60000 (0%)]\tLoss: 0.116525\n",
            "Train Epoch: 1 [6400/60000 (11%)]\tLoss: 0.164106\n",
            "Train Epoch: 1 [12800/60000 (21%)]\tLoss: 0.135328\n",
            "Train Epoch: 1 [19200/60000 (32%)]\tLoss: 0.363989\n",
            "Train Epoch: 1 [25600/60000 (43%)]\tLoss: 0.164042\n",
            "Train Epoch: 1 [32000/60000 (53%)]\tLoss: 0.248321\n",
            "Train Epoch: 1 [38400/60000 (64%)]\tLoss: 0.406805\n",
            "Train Epoch: 1 [44800/60000 (75%)]\tLoss: 0.196895\n",
            "Train Epoch: 1 [51200/60000 (85%)]\tLoss: 0.170146\n",
            "Train Epoch: 1 [57600/60000 (96%)]\tLoss: 0.315213\n",
            "Train Epoch: 2 [0/60000 (0%)]\tLoss: 0.306027\n",
            "Train Epoch: 2 [6400/60000 (11%)]\tLoss: 0.135960\n",
            "Train Epoch: 2 [12800/60000 (21%)]\tLoss: 0.323195\n",
            "Train Epoch: 2 [19200/60000 (32%)]\tLoss: 0.211365\n",
            "Train Epoch: 2 [25600/60000 (43%)]\tLoss: 0.099822\n",
            "Train Epoch: 2 [32000/60000 (53%)]\tLoss: 0.188300\n",
            "Train Epoch: 2 [38400/60000 (64%)]\tLoss: 0.164100\n",
            "Train Epoch: 2 [44800/60000 (75%)]\tLoss: 0.163756\n",
            "Train Epoch: 2 [51200/60000 (85%)]\tLoss: 0.096844\n",
            "Train Epoch: 2 [57600/60000 (96%)]\tLoss: 0.197293\n",
            "Train Epoch: 3 [0/60000 (0%)]\tLoss: 0.179804\n",
            "Train Epoch: 3 [6400/60000 (11%)]\tLoss: 0.126574\n",
            "Train Epoch: 3 [12800/60000 (21%)]\tLoss: 0.282748\n",
            "Train Epoch: 3 [19200/60000 (32%)]\tLoss: 0.174418\n",
            "Train Epoch: 3 [25600/60000 (43%)]\tLoss: 0.096952\n",
            "Train Epoch: 3 [32000/60000 (53%)]\tLoss: 0.247251\n",
            "Train Epoch: 3 [38400/60000 (64%)]\tLoss: 0.166504\n",
            "Train Epoch: 3 [44800/60000 (75%)]\tLoss: 0.108537\n",
            "Train Epoch: 3 [51200/60000 (85%)]\tLoss: 0.039409\n",
            "Train Epoch: 3 [57600/60000 (96%)]\tLoss: 0.087394\n",
            "Train Epoch: 4 [0/60000 (0%)]\tLoss: 0.181047\n",
            "Train Epoch: 4 [6400/60000 (11%)]\tLoss: 0.116359\n",
            "Train Epoch: 4 [12800/60000 (21%)]\tLoss: 0.273659\n",
            "Train Epoch: 4 [19200/60000 (32%)]\tLoss: 0.069754\n",
            "Train Epoch: 4 [25600/60000 (43%)]\tLoss: 0.150957\n",
            "Train Epoch: 4 [32000/60000 (53%)]\tLoss: 0.138405\n",
            "Train Epoch: 4 [38400/60000 (64%)]\tLoss: 0.113648\n",
            "Train Epoch: 4 [44800/60000 (75%)]\tLoss: 0.101657\n",
            "Train Epoch: 4 [51200/60000 (85%)]\tLoss: 0.176062\n",
            "Train Epoch: 4 [57600/60000 (96%)]\tLoss: 0.067839\n",
            "Train Epoch: 5 [0/60000 (0%)]\tLoss: 0.166039\n",
            "Train Epoch: 5 [6400/60000 (11%)]\tLoss: 0.141606\n",
            "Train Epoch: 5 [12800/60000 (21%)]\tLoss: 0.150507\n",
            "Train Epoch: 5 [19200/60000 (32%)]\tLoss: 0.272836\n",
            "Train Epoch: 5 [25600/60000 (43%)]\tLoss: 0.244677\n",
            "Train Epoch: 5 [32000/60000 (53%)]\tLoss: 0.101973\n",
            "Train Epoch: 5 [38400/60000 (64%)]\tLoss: 0.108897\n",
            "Train Epoch: 5 [44800/60000 (75%)]\tLoss: 0.110687\n",
            "Train Epoch: 5 [51200/60000 (85%)]\tLoss: 0.115603\n",
            "Train Epoch: 5 [57600/60000 (96%)]\tLoss: 0.139150\n",
            "Train Epoch: 6 [0/60000 (0%)]\tLoss: 0.222988\n",
            "Train Epoch: 6 [6400/60000 (11%)]\tLoss: 0.086275\n",
            "Train Epoch: 6 [12800/60000 (21%)]\tLoss: 0.045787\n",
            "Train Epoch: 6 [19200/60000 (32%)]\tLoss: 0.217390\n",
            "Train Epoch: 6 [25600/60000 (43%)]\tLoss: 0.046736\n",
            "Train Epoch: 6 [32000/60000 (53%)]\tLoss: 0.089023\n",
            "Train Epoch: 6 [38400/60000 (64%)]\tLoss: 0.109815\n",
            "Train Epoch: 6 [44800/60000 (75%)]\tLoss: 0.086821\n",
            "Train Epoch: 6 [51200/60000 (85%)]\tLoss: 0.070871\n",
            "Train Epoch: 6 [57600/60000 (96%)]\tLoss: 0.137904\n",
            "Train Epoch: 7 [0/60000 (0%)]\tLoss: 0.076517\n",
            "Train Epoch: 7 [6400/60000 (11%)]\tLoss: 0.060301\n",
            "Train Epoch: 7 [12800/60000 (21%)]\tLoss: 0.062316\n",
            "Train Epoch: 7 [19200/60000 (32%)]\tLoss: 0.050279\n",
            "Train Epoch: 7 [25600/60000 (43%)]\tLoss: 0.009174\n",
            "Train Epoch: 7 [32000/60000 (53%)]\tLoss: 0.033125\n",
            "Train Epoch: 7 [38400/60000 (64%)]\tLoss: 0.082936\n",
            "Train Epoch: 7 [44800/60000 (75%)]\tLoss: 0.012545\n",
            "Train Epoch: 7 [51200/60000 (85%)]\tLoss: 0.107967\n",
            "Train Epoch: 7 [57600/60000 (96%)]\tLoss: 0.044865\n",
            "Train Epoch: 8 [0/60000 (0%)]\tLoss: 0.053806\n",
            "Train Epoch: 8 [6400/60000 (11%)]\tLoss: 0.027742\n",
            "Train Epoch: 8 [12800/60000 (21%)]\tLoss: 0.050041\n",
            "Train Epoch: 8 [19200/60000 (32%)]\tLoss: 0.111852\n",
            "Train Epoch: 8 [25600/60000 (43%)]\tLoss: 0.055803\n",
            "Train Epoch: 8 [32000/60000 (53%)]\tLoss: 0.064101\n",
            "Train Epoch: 8 [38400/60000 (64%)]\tLoss: 0.044654\n",
            "Train Epoch: 8 [44800/60000 (75%)]\tLoss: 0.034153\n",
            "Train Epoch: 8 [51200/60000 (85%)]\tLoss: 0.090222\n",
            "Train Epoch: 8 [57600/60000 (96%)]\tLoss: 0.029004\n",
            "Train Epoch: 9 [0/60000 (0%)]\tLoss: 0.053163\n",
            "Train Epoch: 9 [6400/60000 (11%)]\tLoss: 0.051576\n",
            "Train Epoch: 9 [12800/60000 (21%)]\tLoss: 0.080895\n",
            "Train Epoch: 9 [19200/60000 (32%)]\tLoss: 0.035962\n",
            "Train Epoch: 9 [25600/60000 (43%)]\tLoss: 0.195670\n",
            "Train Epoch: 9 [32000/60000 (53%)]\tLoss: 0.049707\n",
            "Train Epoch: 9 [38400/60000 (64%)]\tLoss: 0.010701\n",
            "Train Epoch: 9 [44800/60000 (75%)]\tLoss: 0.056212\n",
            "Train Epoch: 9 [51200/60000 (85%)]\tLoss: 0.099619\n",
            "Train Epoch: 9 [57600/60000 (96%)]\tLoss: 0.096512\n"
          ]
        }
      ]
    },
    {
      "cell_type": "markdown",
      "source": [
        "### Load the test data and test the model"
      ],
      "metadata": {
        "id": "07qN1otrzEZ9"
      }
    },
    {
      "cell_type": "code",
      "source": [
        "test_dataset=datasets.MNIST('data',train=False,download=True,transform=transform)\n",
        "test_loader=torch.utils.data.DataLoader(test_dataset,batch_size=1000,shuffle=True)\n",
        "correct=0\n",
        "total=0\n",
        "with torch.no_grad():\n",
        "  output=net(data)\n",
        "  _,predicted=torch.max(output.data,1)\n",
        "  total+=target.size(0)\n",
        "  correct+=(predicted==target).sum().item()"
      ],
      "metadata": {
        "id": "F2lrmOs_v02B"
      },
      "execution_count": 22,
      "outputs": []
    },
    {
      "cell_type": "markdown",
      "source": [
        "### Accuracy"
      ],
      "metadata": {
        "id": "u-3fQYTwzOE6"
      }
    },
    {
      "cell_type": "code",
      "source": [
        "print('Accuracy of the network on the 10000 test images: %d %%' % (\n",
        "    100 * correct / total))"
      ],
      "metadata": {
        "colab": {
          "base_uri": "https://localhost:8080/"
        },
        "id": "dNFAEhL5x2Lg",
        "outputId": "98a504c6-77d7-461b-9e95-59d436b6c9fd"
      },
      "execution_count": 23,
      "outputs": [
        {
          "output_type": "stream",
          "name": "stdout",
          "text": [
            "Accuracy of the network on the 10000 test images: 93 %\n"
          ]
        }
      ]
    }
  ]
}