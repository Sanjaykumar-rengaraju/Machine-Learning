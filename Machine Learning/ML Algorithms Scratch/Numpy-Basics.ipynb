{
  "nbformat": 4,
  "nbformat_minor": 0,
  "metadata": {
    "colab": {
      "provenance": [],
      "authorship_tag": "ABX9TyNArwOQiDcXCKkd+qwIwWU0",
      "include_colab_link": true
    },
    "kernelspec": {
      "name": "python3",
      "display_name": "Python 3"
    },
    "language_info": {
      "name": "python"
    }
  },
  "cells": [
    {
      "cell_type": "markdown",
      "metadata": {
        "id": "view-in-github",
        "colab_type": "text"
      },
      "source": [
        "<a href=\"https://colab.research.google.com/github/ezioauditore-tech/AI/blob/main/Numpy-Basics.ipynb\" target=\"_parent\"><img src=\"https://colab.research.google.com/assets/colab-badge.svg\" alt=\"Open In Colab\"/></a>"
      ]
    },
    {
      "cell_type": "markdown",
      "source": [
        "#*Numpy Basics*"
      ],
      "metadata": {
        "id": "mxf6_eyPuKzc"
      }
    },
    {
      "cell_type": "markdown",
      "source": [
        "##Installing and Importing Numpy"
      ],
      "metadata": {
        "id": "2NCa02-_uVGb"
      }
    },
    {
      "cell_type": "code",
      "execution_count": 74,
      "metadata": {
        "colab": {
          "base_uri": "https://localhost:8080/"
        },
        "id": "c2HkrySWtgL6",
        "outputId": "55e30caa-9e70-44d1-f421-6be726d8f822"
      },
      "outputs": [
        {
          "output_type": "stream",
          "name": "stdout",
          "text": [
            "Looking in indexes: https://pypi.org/simple, https://us-python.pkg.dev/colab-wheels/public/simple/\n",
            "Requirement already satisfied: numpy in /usr/local/lib/python3.9/dist-packages (1.22.4)\n"
          ]
        }
      ],
      "source": [
        "!pip install numpy"
      ]
    },
    {
      "cell_type": "code",
      "source": [
        "import numpy as np"
      ],
      "metadata": {
        "id": "irIqm50_wdZJ"
      },
      "execution_count": 75,
      "outputs": []
    },
    {
      "cell_type": "markdown",
      "source": [
        "##1. Array Creation"
      ],
      "metadata": {
        "id": "lGfq_RALwYW1"
      }
    },
    {
      "cell_type": "code",
      "source": [
        "#This function creates a new array from a Python list or tuple\n",
        "a=np.array([1,2,3])\n",
        "a"
      ],
      "metadata": {
        "colab": {
          "base_uri": "https://localhost:8080/"
        },
        "id": "_wo2Fpz3ubax",
        "outputId": "ae5154bb-5fb4-4723-a9ae-b3511945b455"
      },
      "execution_count": 76,
      "outputs": [
        {
          "output_type": "execute_result",
          "data": {
            "text/plain": [
              "array([1, 2, 3])"
            ]
          },
          "metadata": {},
          "execution_count": 76
        }
      ]
    },
    {
      "cell_type": "code",
      "source": [
        "#This function creates a new array filled with zeros of a specified shape\n",
        "a=np.zeros((2,3))\n",
        "a"
      ],
      "metadata": {
        "colab": {
          "base_uri": "https://localhost:8080/"
        },
        "id": "3KQ_A7tnwjgf",
        "outputId": "e6929223-2e18-4e0b-8165-2e495bf0a58a"
      },
      "execution_count": 77,
      "outputs": [
        {
          "output_type": "execute_result",
          "data": {
            "text/plain": [
              "array([[0., 0., 0.],\n",
              "       [0., 0., 0.]])"
            ]
          },
          "metadata": {},
          "execution_count": 77
        }
      ]
    },
    {
      "cell_type": "code",
      "source": [
        "#This function creates a new array filled with ones of a specified shape\n",
        "a=np.ones((2,3))\n",
        "a"
      ],
      "metadata": {
        "colab": {
          "base_uri": "https://localhost:8080/"
        },
        "id": "Obuz-wQtw974",
        "outputId": "01898961-d19d-4ba2-82f3-77791787ed4f"
      },
      "execution_count": 78,
      "outputs": [
        {
          "output_type": "execute_result",
          "data": {
            "text/plain": [
              "array([[1., 1., 1.],\n",
              "       [1., 1., 1.]])"
            ]
          },
          "metadata": {},
          "execution_count": 78
        }
      ]
    },
    {
      "cell_type": "code",
      "source": [
        "#This function creates a new array filled with a specified value of a specified shape\n",
        "a=np.full((2,3),5)\n",
        "a"
      ],
      "metadata": {
        "colab": {
          "base_uri": "https://localhost:8080/"
        },
        "id": "dyltxRxmxYRz",
        "outputId": "0c96fc88-0805-4d7e-9074-7967809ab045"
      },
      "execution_count": 79,
      "outputs": [
        {
          "output_type": "execute_result",
          "data": {
            "text/plain": [
              "array([[5, 5, 5],\n",
              "       [5, 5, 5]])"
            ]
          },
          "metadata": {},
          "execution_count": 79
        }
      ]
    },
    {
      "cell_type": "code",
      "source": [
        "#This function creates a new identity matrix of a specified size\n",
        "a=np.eye(3)\n",
        "a"
      ],
      "metadata": {
        "colab": {
          "base_uri": "https://localhost:8080/"
        },
        "id": "ycXCT0T3x8B0",
        "outputId": "81dc17d4-0eaf-482a-8c49-8a3945751b34"
      },
      "execution_count": 80,
      "outputs": [
        {
          "output_type": "execute_result",
          "data": {
            "text/plain": [
              "array([[1., 0., 0.],\n",
              "       [0., 1., 0.],\n",
              "       [0., 0., 1.]])"
            ]
          },
          "metadata": {},
          "execution_count": 80
        }
      ]
    },
    {
      "cell_type": "code",
      "source": [
        "#This function creates a new array filled with random values between 0 and 1 of a specified shape\n",
        "a=np.random.rand(2,3)\n",
        "a"
      ],
      "metadata": {
        "colab": {
          "base_uri": "https://localhost:8080/"
        },
        "id": "BvwGLKOFyNwL",
        "outputId": "7d574365-7d12-45cf-a87e-56cb8f013153"
      },
      "execution_count": 81,
      "outputs": [
        {
          "output_type": "execute_result",
          "data": {
            "text/plain": [
              "array([[0.00940319, 0.52385387, 0.76248279],\n",
              "       [0.07038177, 0.73549119, 0.43241331]])"
            ]
          },
          "metadata": {},
          "execution_count": 81
        }
      ]
    },
    {
      "cell_type": "markdown",
      "source": [
        "##2. Array Manipulation"
      ],
      "metadata": {
        "id": "Gx2He-ejzDNF"
      }
    },
    {
      "cell_type": "code",
      "source": [
        "#This function returns a new array with a specified shape\n",
        "a=np.array([[1,2,3],[4,5,6]])\n",
        "a=np.reshape(a,(3,2))\n",
        "a"
      ],
      "metadata": {
        "colab": {
          "base_uri": "https://localhost:8080/"
        },
        "id": "sVTrYO_WybE8",
        "outputId": "e50b4049-c9e7-4b54-f28d-9e9a570bea46"
      },
      "execution_count": 82,
      "outputs": [
        {
          "output_type": "execute_result",
          "data": {
            "text/plain": [
              "array([[1, 2],\n",
              "       [3, 4],\n",
              "       [5, 6]])"
            ]
          },
          "metadata": {},
          "execution_count": 82
        }
      ]
    },
    {
      "cell_type": "code",
      "source": [
        "#This function returns a new array with the dimensions transposed\n",
        "a=np.array([[1,2,3],[4,5,6],[7,8,9]])\n",
        "a=np.transpose(a)\n",
        "a"
      ],
      "metadata": {
        "colab": {
          "base_uri": "https://localhost:8080/"
        },
        "id": "X-FR9YTuzYhm",
        "outputId": "3cc32ffa-c391-4588-95fb-826422f7eb13"
      },
      "execution_count": 83,
      "outputs": [
        {
          "output_type": "execute_result",
          "data": {
            "text/plain": [
              "array([[1, 4, 7],\n",
              "       [2, 5, 8],\n",
              "       [3, 6, 9]])"
            ]
          },
          "metadata": {},
          "execution_count": 83
        }
      ]
    },
    {
      "cell_type": "code",
      "source": [
        "#This function joins two or more arrays along a specified axis-The axis parameter is used to specify along which dimension(s) a particular operation should be performed\n",
        "#When axis=0, the operation is performed along the rows of a two-dimensional array\n",
        "a=np.array([[1,2],[3,4]])\n",
        "b=np.array([[5,6]])\n",
        "c=np.concatenate((a,b),axis=0)\n",
        "c"
      ],
      "metadata": {
        "colab": {
          "base_uri": "https://localhost:8080/"
        },
        "id": "eO9LMrND0QGq",
        "outputId": "d6f297e9-6704-4e98-f4b9-ca720fd62a7c"
      },
      "execution_count": 84,
      "outputs": [
        {
          "output_type": "execute_result",
          "data": {
            "text/plain": [
              "array([[1, 2],\n",
              "       [3, 4],\n",
              "       [5, 6]])"
            ]
          },
          "metadata": {},
          "execution_count": 84
        }
      ]
    },
    {
      "cell_type": "code",
      "source": [
        "#This function splits an array into multiple sub-arrays\n",
        "a=np.array([1,2,3,4,5,6])\n",
        "a=np.split(a,3)\n",
        "a"
      ],
      "metadata": {
        "colab": {
          "base_uri": "https://localhost:8080/"
        },
        "id": "pPOHgCXZ0yjn",
        "outputId": "0ee9e3cf-1335-4e39-fbd0-7f462e634644"
      },
      "execution_count": 85,
      "outputs": [
        {
          "output_type": "execute_result",
          "data": {
            "text/plain": [
              "[array([1, 2]), array([3, 4]), array([5, 6])]"
            ]
          },
          "metadata": {},
          "execution_count": 85
        }
      ]
    },
    {
      "cell_type": "code",
      "source": [
        "#This function stacks arrays vertically\n",
        "a=np.array([[1,2],[3,4]])\n",
        "b=np.array([[5,6]])\n",
        "c=np.vstack((a,b))\n",
        "c"
      ],
      "metadata": {
        "colab": {
          "base_uri": "https://localhost:8080/"
        },
        "id": "vcK5xATA4Ly0",
        "outputId": "577e92c3-ddbb-4a61-c4c4-e1620cc36e0b"
      },
      "execution_count": 86,
      "outputs": [
        {
          "output_type": "execute_result",
          "data": {
            "text/plain": [
              "array([[1, 2],\n",
              "       [3, 4],\n",
              "       [5, 6]])"
            ]
          },
          "metadata": {},
          "execution_count": 86
        }
      ]
    },
    {
      "cell_type": "code",
      "source": [
        "#This function stacks arrays horizontally\n",
        "b=b.T\n",
        "c=np.hstack((a,b))\n",
        "c"
      ],
      "metadata": {
        "colab": {
          "base_uri": "https://localhost:8080/"
        },
        "id": "y3Hz8_9Q4i6u",
        "outputId": "cac0ee53-482c-4d0b-ccd4-1f6d3cbd4542"
      },
      "execution_count": 87,
      "outputs": [
        {
          "output_type": "execute_result",
          "data": {
            "text/plain": [
              "array([[1, 2, 5],\n",
              "       [3, 4, 6]])"
            ]
          },
          "metadata": {},
          "execution_count": 87
        }
      ]
    },
    {
      "cell_type": "markdown",
      "source": [
        "##3. Mathematical Functions"
      ],
      "metadata": {
        "id": "RazYZjjb5UJg"
      }
    },
    {
      "cell_type": "code",
      "source": [
        "#This function adds two arrays element-wise\n",
        "a=np.array([1,2,3])\n",
        "b=np.array([4,5,6])\n",
        "c=np.add(a,b)\n",
        "c"
      ],
      "metadata": {
        "colab": {
          "base_uri": "https://localhost:8080/"
        },
        "id": "LCA-B2kn458L",
        "outputId": "68f2d1f8-5d06-4029-f50a-979152e92cf4"
      },
      "execution_count": 88,
      "outputs": [
        {
          "output_type": "execute_result",
          "data": {
            "text/plain": [
              "array([5, 7, 9])"
            ]
          },
          "metadata": {},
          "execution_count": 88
        }
      ]
    },
    {
      "cell_type": "code",
      "source": [
        "#This function subtracts two arrays element-wise\n",
        "c=np.subtract(a,b)\n",
        "c"
      ],
      "metadata": {
        "colab": {
          "base_uri": "https://localhost:8080/"
        },
        "id": "2lV2CvYf5lXi",
        "outputId": "c0231916-f1c9-4911-9d36-61d5a691b10e"
      },
      "execution_count": 89,
      "outputs": [
        {
          "output_type": "execute_result",
          "data": {
            "text/plain": [
              "array([-3, -3, -3])"
            ]
          },
          "metadata": {},
          "execution_count": 89
        }
      ]
    },
    {
      "cell_type": "code",
      "source": [
        "#This function multiplies two arrays element-wise\n",
        "c=np.multiply(a,b)\n",
        "c"
      ],
      "metadata": {
        "colab": {
          "base_uri": "https://localhost:8080/"
        },
        "id": "xeitKWXn5tR-",
        "outputId": "94f4f469-4519-4e87-a2fb-ea2c66d20471"
      },
      "execution_count": 90,
      "outputs": [
        {
          "output_type": "execute_result",
          "data": {
            "text/plain": [
              "array([ 4, 10, 18])"
            ]
          },
          "metadata": {},
          "execution_count": 90
        }
      ]
    },
    {
      "cell_type": "code",
      "source": [
        "#This function divides two arrays element-wise\n",
        "c=np.divide(a,b)\n",
        "c"
      ],
      "metadata": {
        "colab": {
          "base_uri": "https://localhost:8080/"
        },
        "id": "2Pc-1dyd53qP",
        "outputId": "902c271a-5f86-4390-ec71-94adba4691ce"
      },
      "execution_count": 91,
      "outputs": [
        {
          "output_type": "execute_result",
          "data": {
            "text/plain": [
              "array([0.25, 0.4 , 0.5 ])"
            ]
          },
          "metadata": {},
          "execution_count": 91
        }
      ]
    },
    {
      "cell_type": "code",
      "source": [
        "#This function raises each element of an array to a specified power\n",
        "a=np.array([1,2,3])\n",
        "a=np.power(a,3)\n",
        "a"
      ],
      "metadata": {
        "colab": {
          "base_uri": "https://localhost:8080/"
        },
        "id": "I8OkE6qN5-bQ",
        "outputId": "5ddfd7d7-fcf6-446d-a7fe-064d68ccd4cd"
      },
      "execution_count": 92,
      "outputs": [
        {
          "output_type": "execute_result",
          "data": {
            "text/plain": [
              "array([ 1,  8, 27])"
            ]
          },
          "metadata": {},
          "execution_count": 92
        }
      ]
    },
    {
      "cell_type": "code",
      "source": [
        "#This function returns the exponential of each element in an array\n",
        "a=np.array([1,2,3])\n",
        "a=np.exp(a)\n",
        "a"
      ],
      "metadata": {
        "colab": {
          "base_uri": "https://localhost:8080/"
        },
        "id": "0RU95Can6SLW",
        "outputId": "a8a9438b-9633-473a-f39d-19a824e78b1c"
      },
      "execution_count": 93,
      "outputs": [
        {
          "output_type": "execute_result",
          "data": {
            "text/plain": [
              "array([ 2.71828183,  7.3890561 , 20.08553692])"
            ]
          },
          "metadata": {},
          "execution_count": 93
        }
      ]
    },
    {
      "cell_type": "code",
      "source": [
        "#This function computes the absolute value of each element in the array\n",
        "a=np.array([-1,-2,-3,-4])\n",
        "a=np.abs(a)\n",
        "a"
      ],
      "metadata": {
        "colab": {
          "base_uri": "https://localhost:8080/"
        },
        "id": "efV5-xzVr2bY",
        "outputId": "d960ea55-5273-4241-924b-006d2c12e38e"
      },
      "execution_count": 94,
      "outputs": [
        {
          "output_type": "execute_result",
          "data": {
            "text/plain": [
              "array([1, 2, 3, 4])"
            ]
          },
          "metadata": {},
          "execution_count": 94
        }
      ]
    },
    {
      "cell_type": "code",
      "source": [
        "#This function computes the square root of each element in the array\n",
        "a=np.array([4,9,16])\n",
        "a=np.sqrt(a)\n",
        "a\n"
      ],
      "metadata": {
        "colab": {
          "base_uri": "https://localhost:8080/"
        },
        "id": "GzGMPTp1sC0E",
        "outputId": "325ff615-b12c-4ba7-99b6-816e01b92e48"
      },
      "execution_count": 95,
      "outputs": [
        {
          "output_type": "execute_result",
          "data": {
            "text/plain": [
              "array([2., 3., 4.])"
            ]
          },
          "metadata": {},
          "execution_count": 95
        }
      ]
    },
    {
      "cell_type": "markdown",
      "source": [
        "##4. Statistical Functions"
      ],
      "metadata": {
        "id": "w4zmCGMD843f"
      }
    },
    {
      "cell_type": "code",
      "source": [
        "#This function computes the arithmetic mean along a specified axis\n",
        "a=np.array([[1,2,3],[4,5,6],[7,8,9]])\n",
        "b=np.mean(a,axis=0)\n",
        "b"
      ],
      "metadata": {
        "colab": {
          "base_uri": "https://localhost:8080/"
        },
        "id": "t0LxMFut6n2r",
        "outputId": "49731af0-fcda-4c99-85b2-486ec0e95d0e"
      },
      "execution_count": 96,
      "outputs": [
        {
          "output_type": "execute_result",
          "data": {
            "text/plain": [
              "array([4., 5., 6.])"
            ]
          },
          "metadata": {},
          "execution_count": 96
        }
      ]
    },
    {
      "cell_type": "code",
      "source": [
        "#This function computes the median along a specified axis\n",
        "a=np.array([[2,3,4],[1,4,7],[3,5,6]])\n",
        "b=np.median(a,axis=0)\n",
        "b"
      ],
      "metadata": {
        "colab": {
          "base_uri": "https://localhost:8080/"
        },
        "id": "-rq_9XjDwnju",
        "outputId": "e2ebde17-808f-46a0-a8b8-380dbe7c0441"
      },
      "execution_count": 97,
      "outputs": [
        {
          "output_type": "execute_result",
          "data": {
            "text/plain": [
              "array([2., 4., 6.])"
            ]
          },
          "metadata": {},
          "execution_count": 97
        }
      ]
    },
    {
      "cell_type": "code",
      "source": [
        "#This function computes the variance along a specified axis\n",
        "b=np.var(a,axis=0)\n",
        "b"
      ],
      "metadata": {
        "colab": {
          "base_uri": "https://localhost:8080/"
        },
        "id": "Gf6YF9NgxZFI",
        "outputId": "f2253063-452b-4188-8d57-203189b5a4d2"
      },
      "execution_count": 98,
      "outputs": [
        {
          "output_type": "execute_result",
          "data": {
            "text/plain": [
              "array([0.66666667, 0.66666667, 1.55555556])"
            ]
          },
          "metadata": {},
          "execution_count": 98
        }
      ]
    },
    {
      "cell_type": "code",
      "source": [
        "#This function computes the standard deviation along a specified axis\n",
        "a=np.array([[1,2,3],[4,5,6],[7,8,9]])\n",
        "b=np.std(a,axis=0)\n",
        "b"
      ],
      "metadata": {
        "colab": {
          "base_uri": "https://localhost:8080/"
        },
        "id": "0CJg5v6exz1Z",
        "outputId": "e7b340fb-e24f-4fe2-efaf-1efe106ada6f"
      },
      "execution_count": 99,
      "outputs": [
        {
          "output_type": "execute_result",
          "data": {
            "text/plain": [
              "array([2.44948974, 2.44948974, 2.44948974])"
            ]
          },
          "metadata": {},
          "execution_count": 99
        }
      ]
    },
    {
      "cell_type": "code",
      "source": [
        "#This function returns the minimum value along a specified axis\n",
        "b=np.min(a,axis=0)\n",
        "b"
      ],
      "metadata": {
        "colab": {
          "base_uri": "https://localhost:8080/"
        },
        "id": "lbXw-FdE2jfB",
        "outputId": "7efff17a-2bd1-4fc8-a383-f50b48096753"
      },
      "execution_count": 100,
      "outputs": [
        {
          "output_type": "execute_result",
          "data": {
            "text/plain": [
              "array([1, 2, 3])"
            ]
          },
          "metadata": {},
          "execution_count": 100
        }
      ]
    },
    {
      "cell_type": "code",
      "source": [
        "#This function returns the maximum value along a specified axis\n",
        "b=np.max(a,axis=0)\n",
        "b"
      ],
      "metadata": {
        "colab": {
          "base_uri": "https://localhost:8080/"
        },
        "id": "F0gFJfnZ2xbu",
        "outputId": "86f2ea7b-5fc9-4d50-dd8e-77732d963574"
      },
      "execution_count": 101,
      "outputs": [
        {
          "output_type": "execute_result",
          "data": {
            "text/plain": [
              "array([7, 8, 9])"
            ]
          },
          "metadata": {},
          "execution_count": 101
        }
      ]
    },
    {
      "cell_type": "code",
      "source": [
        "#This function computes the covariance matrix of a given array\n",
        "b=np.cov(a)\n",
        "b"
      ],
      "metadata": {
        "colab": {
          "base_uri": "https://localhost:8080/"
        },
        "id": "qQDkTyd324W_",
        "outputId": "7a237327-43e4-497c-cdde-25ba90d10d84"
      },
      "execution_count": 102,
      "outputs": [
        {
          "output_type": "execute_result",
          "data": {
            "text/plain": [
              "array([[1., 1., 1.],\n",
              "       [1., 1., 1.],\n",
              "       [1., 1., 1.]])"
            ]
          },
          "metadata": {},
          "execution_count": 102
        }
      ]
    },
    {
      "cell_type": "code",
      "source": [
        "#This function computes the correlation matrix of a given array\n",
        "b=np.corrcoef(a)\n",
        "b"
      ],
      "metadata": {
        "colab": {
          "base_uri": "https://localhost:8080/"
        },
        "id": "lYYwhsTY3Ffn",
        "outputId": "128145d0-9b7d-44fa-e927-234e2ee90fc5"
      },
      "execution_count": 103,
      "outputs": [
        {
          "output_type": "execute_result",
          "data": {
            "text/plain": [
              "array([[1., 1., 1.],\n",
              "       [1., 1., 1.],\n",
              "       [1., 1., 1.]])"
            ]
          },
          "metadata": {},
          "execution_count": 103
        }
      ]
    },
    {
      "cell_type": "code",
      "source": [
        "#This function computes the q-th percentile of a given array along a specified axis\n",
        "b=np.percentile(a,50,axis=0)\n",
        "b"
      ],
      "metadata": {
        "colab": {
          "base_uri": "https://localhost:8080/"
        },
        "id": "jTOZGCjw3Urs",
        "outputId": "b8f23953-569d-4ee8-91b0-596ff7bb4328"
      },
      "execution_count": 104,
      "outputs": [
        {
          "output_type": "execute_result",
          "data": {
            "text/plain": [
              "array([4., 5., 6.])"
            ]
          },
          "metadata": {},
          "execution_count": 104
        }
      ]
    },
    {
      "cell_type": "markdown",
      "source": [
        "##5. Linear algebra "
      ],
      "metadata": {
        "id": "FZihfGGs4EWo"
      }
    },
    {
      "cell_type": "code",
      "source": [
        "#This function computes the dot product of two arrays. For 2-D arrays it is equivalent to matrix multiplication\n",
        "a=np.array([[1,2],[4,5]])\n",
        "b=np.array([[7,8],[10,11]])\n",
        "c=np.dot(a,b)\n",
        "c"
      ],
      "metadata": {
        "colab": {
          "base_uri": "https://localhost:8080/"
        },
        "id": "lnqOrYLe3jE0",
        "outputId": "b9fa2543-35c9-43b1-84ef-b8e396f812ea"
      },
      "execution_count": 105,
      "outputs": [
        {
          "output_type": "execute_result",
          "data": {
            "text/plain": [
              "array([[27, 30],\n",
              "       [78, 87]])"
            ]
          },
          "metadata": {},
          "execution_count": 105
        }
      ]
    },
    {
      "cell_type": "code",
      "source": [
        "#This function computes the trace of a given array. The trace of a square matrix is the sum of its diagonal elements\n",
        "a=np.array([[1,3],[1,7]])\n",
        "b=np.trace(a)\n",
        "b"
      ],
      "metadata": {
        "colab": {
          "base_uri": "https://localhost:8080/"
        },
        "id": "RG-JwLSv4lRB",
        "outputId": "23f82120-8ec4-4fe1-dd30-a0ec13cf1adf"
      },
      "execution_count": 106,
      "outputs": [
        {
          "output_type": "execute_result",
          "data": {
            "text/plain": [
              "8"
            ]
          },
          "metadata": {},
          "execution_count": 106
        }
      ]
    },
    {
      "cell_type": "code",
      "source": [
        "#This function computes the inverse of a given matrix\n",
        "b=np.linalg.inv(a)\n",
        "b"
      ],
      "metadata": {
        "colab": {
          "base_uri": "https://localhost:8080/"
        },
        "id": "kKLz7IHN5fld",
        "outputId": "3a65ba0d-1d16-4d4e-b1be-8263fd6a4825"
      },
      "execution_count": 107,
      "outputs": [
        {
          "output_type": "execute_result",
          "data": {
            "text/plain": [
              "array([[ 1.75, -0.75],\n",
              "       [-0.25,  0.25]])"
            ]
          },
          "metadata": {},
          "execution_count": 107
        }
      ]
    },
    {
      "cell_type": "code",
      "source": [
        "#This function computes the determinant of a given matrix\n",
        "b=np.linalg.det(a)\n",
        "b"
      ],
      "metadata": {
        "colab": {
          "base_uri": "https://localhost:8080/"
        },
        "id": "TN9cRtA07EM1",
        "outputId": "e3be3f48-56e4-4fe8-c6f6-b847965d89f2"
      },
      "execution_count": 108,
      "outputs": [
        {
          "output_type": "execute_result",
          "data": {
            "text/plain": [
              "4.0"
            ]
          },
          "metadata": {},
          "execution_count": 108
        }
      ]
    },
    {
      "cell_type": "code",
      "source": [
        "#This function computes the eigenvalues and eigenvectors of a given square matrix\n",
        "eigval,eigvec=np.linalg.eig(a)\n",
        "print(\"Eigenvalues: \",eigval)\n",
        "print(\"Eigenvectors: \",eigvec)"
      ],
      "metadata": {
        "colab": {
          "base_uri": "https://localhost:8080/"
        },
        "id": "OBPnVLxn7QUn",
        "outputId": "90c19766-9f50-4e0c-b922-36253e327ba9"
      },
      "execution_count": 109,
      "outputs": [
        {
          "output_type": "stream",
          "name": "stdout",
          "text": [
            "Eigenvalues:  [0.53589838 7.46410162]\n",
            "Eigenvectors:  [[-0.98824446 -0.42097392]\n",
            " [ 0.15288195 -0.90707274]]\n"
          ]
        }
      ]
    },
    {
      "cell_type": "code",
      "source": [
        "#This function computes the singular value decomposition (SVD) of a given matrix\n",
        "a=np.array([[1,2],[3,4],[5,6]])\n",
        "u,s,v=np.linalg.svd(a)\n",
        "print('U: ',u)\n",
        "print('S: ',s)\n",
        "print('V: ',v)"
      ],
      "metadata": {
        "colab": {
          "base_uri": "https://localhost:8080/"
        },
        "id": "aa1sGs1B7zAy",
        "outputId": "c9acc620-8d6e-4378-fec5-f6b1714e2337"
      },
      "execution_count": 110,
      "outputs": [
        {
          "output_type": "stream",
          "name": "stdout",
          "text": [
            "U:  [[-0.2298477   0.88346102  0.40824829]\n",
            " [-0.52474482  0.24078249 -0.81649658]\n",
            " [-0.81964194 -0.40189603  0.40824829]]\n",
            "S:  [9.52551809 0.51430058]\n",
            "V:  [[-0.61962948 -0.78489445]\n",
            " [-0.78489445  0.61962948]]\n"
          ]
        }
      ]
    },
    {
      "cell_type": "markdown",
      "source": [
        "##6. Trigonometric functions"
      ],
      "metadata": {
        "id": "L_4EImjr8xvZ"
      }
    },
    {
      "cell_type": "code",
      "source": [
        "#This function returns the sine of a given angle in radians\n",
        "a=np.pi/2\n",
        "b=np.sin(a)\n",
        "b"
      ],
      "metadata": {
        "colab": {
          "base_uri": "https://localhost:8080/"
        },
        "id": "F_9yN2Ch8n_e",
        "outputId": "7406a1cc-f75a-4b67-f66a-7cef4c08a6d6"
      },
      "execution_count": 111,
      "outputs": [
        {
          "output_type": "execute_result",
          "data": {
            "text/plain": [
              "1.0"
            ]
          },
          "metadata": {},
          "execution_count": 111
        }
      ]
    },
    {
      "cell_type": "code",
      "source": [
        "#This function returns the cosine of a given angle in radians\n",
        "a=np.pi/3\n",
        "b=np.cos(a)\n",
        "b"
      ],
      "metadata": {
        "colab": {
          "base_uri": "https://localhost:8080/"
        },
        "id": "2OI-fbxU88PL",
        "outputId": "59f73482-fccc-4104-9afb-a2df0667a284"
      },
      "execution_count": 112,
      "outputs": [
        {
          "output_type": "execute_result",
          "data": {
            "text/plain": [
              "0.5000000000000001"
            ]
          },
          "metadata": {},
          "execution_count": 112
        }
      ]
    },
    {
      "cell_type": "code",
      "source": [
        "#This function returns the tangent of a given angle in radians\n",
        "a=np.pi/4\n",
        "b=np.tan(a)\n",
        "b"
      ],
      "metadata": {
        "colab": {
          "base_uri": "https://localhost:8080/"
        },
        "id": "ifKmPMOe9DNS",
        "outputId": "4da85321-bc69-453a-b275-b4cb6cb6e9f9"
      },
      "execution_count": 113,
      "outputs": [
        {
          "output_type": "execute_result",
          "data": {
            "text/plain": [
              "0.9999999999999999"
            ]
          },
          "metadata": {},
          "execution_count": 113
        }
      ]
    },
    {
      "cell_type": "code",
      "source": [
        "#This function returns the inverse sine (or arcsine) of a given value\n",
        "a=1\n",
        "b=np.arcsin(a)\n",
        "b"
      ],
      "metadata": {
        "colab": {
          "base_uri": "https://localhost:8080/"
        },
        "id": "9O_PFZYo9O2B",
        "outputId": "7f2356fb-db3c-4897-b628-a659d80ccc2e"
      },
      "execution_count": 114,
      "outputs": [
        {
          "output_type": "execute_result",
          "data": {
            "text/plain": [
              "1.5707963267948966"
            ]
          },
          "metadata": {},
          "execution_count": 114
        }
      ]
    },
    {
      "cell_type": "code",
      "source": [
        "#This function returns the inverse cosine (or arccosine) of a given value\n",
        "a=0.5\n",
        "b=np.arccos(a)\n",
        "b"
      ],
      "metadata": {
        "colab": {
          "base_uri": "https://localhost:8080/"
        },
        "id": "WkG2xr_W9ZmH",
        "outputId": "b4ba9dfe-8b5c-4423-b724-c682c6e06d60"
      },
      "execution_count": 115,
      "outputs": [
        {
          "output_type": "execute_result",
          "data": {
            "text/plain": [
              "1.0471975511965979"
            ]
          },
          "metadata": {},
          "execution_count": 115
        }
      ]
    },
    {
      "cell_type": "code",
      "source": [
        "#This function returns the inverse tangent (or arctangent) of a given value\n",
        "a=0.99\n",
        "b=np.arctan(a)\n",
        "b"
      ],
      "metadata": {
        "colab": {
          "base_uri": "https://localhost:8080/"
        },
        "id": "q8rbbMvY90Hz",
        "outputId": "32d38727-6471-4478-e080-4bc0e0a73592"
      },
      "execution_count": 116,
      "outputs": [
        {
          "output_type": "execute_result",
          "data": {
            "text/plain": [
              "0.7803730800666359"
            ]
          },
          "metadata": {},
          "execution_count": 116
        }
      ]
    },
    {
      "cell_type": "code",
      "source": [
        "#This function converts a given angle from degrees to radians\n",
        "a=180\n",
        "b=np.deg2rad(a)\n",
        "b"
      ],
      "metadata": {
        "colab": {
          "base_uri": "https://localhost:8080/"
        },
        "id": "QHO287XF-AV1",
        "outputId": "e46665e2-a198-4c07-a092-25af7093da8a"
      },
      "execution_count": 117,
      "outputs": [
        {
          "output_type": "execute_result",
          "data": {
            "text/plain": [
              "3.141592653589793"
            ]
          },
          "metadata": {},
          "execution_count": 117
        }
      ]
    },
    {
      "cell_type": "code",
      "source": [
        "#This function converts a given angle from radians to degrees\n",
        "a=np.pi/4\n",
        "b=np.rad2deg(a)\n",
        "b"
      ],
      "metadata": {
        "colab": {
          "base_uri": "https://localhost:8080/"
        },
        "id": "rnHSarTe-MGZ",
        "outputId": "12e12342-7df2-42ef-ee4d-2df4cc5fbb41"
      },
      "execution_count": 118,
      "outputs": [
        {
          "output_type": "execute_result",
          "data": {
            "text/plain": [
              "45.0"
            ]
          },
          "metadata": {},
          "execution_count": 118
        }
      ]
    },
    {
      "cell_type": "code",
      "source": [
        "#This function returns the Euclidean distance (or hypotenuse) between two points\n",
        "a=3\n",
        "b=4\n",
        "c=np.hypot(a,b)\n",
        "c"
      ],
      "metadata": {
        "colab": {
          "base_uri": "https://localhost:8080/"
        },
        "id": "wtRToql9-Ung",
        "outputId": "573ed6b1-42b4-4881-d28e-a07e683d14f2"
      },
      "execution_count": 119,
      "outputs": [
        {
          "output_type": "execute_result",
          "data": {
            "text/plain": [
              "5.0"
            ]
          },
          "metadata": {},
          "execution_count": 119
        }
      ]
    },
    {
      "cell_type": "markdown",
      "source": [
        "##7. Random number generation functions"
      ],
      "metadata": {
        "id": "huXSYIvv-vpi"
      }
    },
    {
      "cell_type": "code",
      "source": [
        "#This function returns an array of random numbers between 0 and 1 with the given shape\n",
        "a=np.random.rand(3,2)\n",
        "a"
      ],
      "metadata": {
        "colab": {
          "base_uri": "https://localhost:8080/"
        },
        "id": "52NH7_S--hMB",
        "outputId": "be5b6b71-456f-46d7-e4d2-e135e208c15f"
      },
      "execution_count": 120,
      "outputs": [
        {
          "output_type": "execute_result",
          "data": {
            "text/plain": [
              "array([[0.01051965, 0.49847565],\n",
              "       [0.86657348, 0.48814771],\n",
              "       [0.83163159, 0.64707545]])"
            ]
          },
          "metadata": {},
          "execution_count": 120
        }
      ]
    },
    {
      "cell_type": "code",
      "source": [
        "#This function returns an array of random numbers from a normal distribution with the given shape\n",
        "a=np.random.randn(3,2)\n",
        "a"
      ],
      "metadata": {
        "colab": {
          "base_uri": "https://localhost:8080/"
        },
        "id": "rN6i5Yyd_oc3",
        "outputId": "6e4bbc34-eed0-4aaa-f790-60b16e727acf"
      },
      "execution_count": 121,
      "outputs": [
        {
          "output_type": "execute_result",
          "data": {
            "text/plain": [
              "array([[ 0.83326661, -1.85752986],\n",
              "       [-0.95313069,  0.84658453],\n",
              "       [-0.01450855, -0.45586195]])"
            ]
          },
          "metadata": {},
          "execution_count": 121
        }
      ]
    },
    {
      "cell_type": "code",
      "source": [
        "#This function returns an array of random integers between the given range with the given shape\n",
        "a=np.random.randint(0,10,(3,2))\n",
        "a"
      ],
      "metadata": {
        "colab": {
          "base_uri": "https://localhost:8080/"
        },
        "id": "BLh1ciXK_zxr",
        "outputId": "6ec7465f-7f86-4611-9342-2a6d8ca9278a"
      },
      "execution_count": 122,
      "outputs": [
        {
          "output_type": "execute_result",
          "data": {
            "text/plain": [
              "array([[1, 6],\n",
              "       [2, 7],\n",
              "       [2, 0]])"
            ]
          },
          "metadata": {},
          "execution_count": 122
        }
      ]
    },
    {
      "cell_type": "code",
      "source": [
        "#This function returns an array of random values chosen from a given array with the given shape\n",
        "a=np.random.choice(['apple','banana','orange'],size=(3,3))\n",
        "a"
      ],
      "metadata": {
        "colab": {
          "base_uri": "https://localhost:8080/"
        },
        "id": "D_rpkYrGAbwh",
        "outputId": "5cc1faba-e3c4-419b-8c1f-c7dd129c39a2"
      },
      "execution_count": 123,
      "outputs": [
        {
          "output_type": "execute_result",
          "data": {
            "text/plain": [
              "array([['apple', 'orange', 'banana'],\n",
              "       ['apple', 'banana', 'banana'],\n",
              "       ['banana', 'apple', 'banana']], dtype='<U6')"
            ]
          },
          "metadata": {},
          "execution_count": 123
        }
      ]
    },
    {
      "cell_type": "code",
      "source": [
        "#This function returns an array of random numbers from a normal distribution with the given mean and standard deviation\n",
        "a=np.random.normal(0,2,(3,3))\n",
        "a"
      ],
      "metadata": {
        "colab": {
          "base_uri": "https://localhost:8080/"
        },
        "id": "V5HqVwooAsuF",
        "outputId": "28778160-b4b8-4bc4-a4d9-532acbff4b64"
      },
      "execution_count": 124,
      "outputs": [
        {
          "output_type": "execute_result",
          "data": {
            "text/plain": [
              "array([[-1.05910791,  0.69233004,  0.47110572],\n",
              "       [ 2.06989214,  2.0349981 ,  2.5125619 ],\n",
              "       [-1.51963145,  1.3860772 , -3.17153868]])"
            ]
          },
          "metadata": {},
          "execution_count": 124
        }
      ]
    },
    {
      "cell_type": "code",
      "source": [
        "#This function returns an array of random numbers between the given range with the given shape\n",
        "a=np.random.uniform(1,2,(3,3))\n",
        "a"
      ],
      "metadata": {
        "colab": {
          "base_uri": "https://localhost:8080/"
        },
        "id": "hwID3_fHA-hW",
        "outputId": "dc69719d-9f71-4efb-86b4-8cb79df7838b"
      },
      "execution_count": 125,
      "outputs": [
        {
          "output_type": "execute_result",
          "data": {
            "text/plain": [
              "array([[1.40281474, 1.27370002, 1.34604123],\n",
              "       [1.26554461, 1.28947917, 1.78396163],\n",
              "       [1.08149938, 1.59071569, 1.48561664]])"
            ]
          },
          "metadata": {},
          "execution_count": 125
        }
      ]
    },
    {
      "cell_type": "code",
      "source": [
        "#This function returns a shuffled sequence of a given array\n",
        "a=np.random.permutation([1,2,3,4,5])\n",
        "a"
      ],
      "metadata": {
        "colab": {
          "base_uri": "https://localhost:8080/"
        },
        "id": "F64GXTCiBNVO",
        "outputId": "51da39cc-5dfb-457e-a586-555b4b7fc317"
      },
      "execution_count": 126,
      "outputs": [
        {
          "output_type": "execute_result",
          "data": {
            "text/plain": [
              "array([5, 3, 4, 2, 1])"
            ]
          },
          "metadata": {},
          "execution_count": 126
        }
      ]
    },
    {
      "cell_type": "code",
      "source": [
        " #This function shuffles a given array in place\n",
        " a=np.array([1,2,3,4,5])\n",
        " np.random.shuffle(a)\n",
        " a"
      ],
      "metadata": {
        "colab": {
          "base_uri": "https://localhost:8080/"
        },
        "id": "MC09y07OBYrA",
        "outputId": "5e364685-822c-4cf4-e4f8-ac77d0bc4075"
      },
      "execution_count": 127,
      "outputs": [
        {
          "output_type": "execute_result",
          "data": {
            "text/plain": [
              "array([3, 1, 5, 4, 2])"
            ]
          },
          "metadata": {},
          "execution_count": 127
        }
      ]
    }
  ]
}