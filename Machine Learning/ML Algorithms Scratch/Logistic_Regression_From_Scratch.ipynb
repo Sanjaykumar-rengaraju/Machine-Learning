{
  "nbformat": 4,
  "nbformat_minor": 0,
  "metadata": {
    "colab": {
      "provenance": []
    },
    "kernelspec": {
      "name": "python3",
      "display_name": "Python 3"
    },
    "language_info": {
      "name": "python"
    }
  },
  "cells": [
    {
      "cell_type": "code",
      "execution_count": 140,
      "metadata": {
        "id": "t_qXsSFQ4Z2O"
      },
      "outputs": [],
      "source": [
        "import numpy as np\n",
        "import matplotlib.pyplot as plt"
      ]
    },
    {
      "cell_type": "code",
      "source": [
        "def sigmoid(z):\n",
        "    return 1 / (1 + np.exp(-z))"
      ],
      "metadata": {
        "id": "GGOR1Z3Y4ewN"
      },
      "execution_count": 141,
      "outputs": []
    },
    {
      "cell_type": "code",
      "source": [
        "def initialize_params(num_features):\n",
        "    return np.zeros(num_features)"
      ],
      "metadata": {
        "id": "jF-lOvHQ5OWh"
      },
      "execution_count": 142,
      "outputs": []
    },
    {
      "cell_type": "code",
      "source": [
        "def cost_function(y, y_pred):\n",
        "    m = len(y)\n",
        "    return -1/m * np.sum(y * np.log(y_pred) + (1 - y) * np.log(1 - y_pred))"
      ],
      "metadata": {
        "id": "gStw1NEK5QD5"
      },
      "execution_count": 143,
      "outputs": []
    },
    {
      "cell_type": "code",
      "source": [
        "def gradient_descent(X, y, params, learning_rate, num_iterations):\n",
        "    m = len(y)\n",
        "    for i in range(num_iterations):\n",
        "        z = np.dot(X, params)\n",
        "        y_pred = sigmoid(z)\n",
        "        gradient = np.dot(X.T, (y_pred - y)) / m\n",
        "        params -= learning_rate * gradient\n",
        "    return params"
      ],
      "metadata": {
        "id": "JD0sGeR-5WCi"
      },
      "execution_count": 144,
      "outputs": []
    },
    {
      "cell_type": "code",
      "source": [
        "def predict(X, params, threshold=0.5):\n",
        "    z = np.dot(X, params)\n",
        "    y_pred = sigmoid(z)\n",
        "    return (y_pred >= threshold).astype(int)"
      ],
      "metadata": {
        "id": "IbrN62qW5afn"
      },
      "execution_count": 145,
      "outputs": []
    },
    {
      "cell_type": "code",
      "source": [
        "X = np.linspace(-5, 5, 100)\n",
        "Y = sigmoid(X)"
      ],
      "metadata": {
        "id": "sWQjrRiT7jl7"
      },
      "execution_count": 146,
      "outputs": []
    },
    {
      "cell_type": "code",
      "source": [
        "plt.plot(X, Y)\n",
        "plt.xlabel('X')\n",
        "plt.ylabel('Y (Logistic Function)')\n",
        "plt.title('Logistic Regression Curve (Sigmoid Curve)')\n",
        "plt.grid(True)\n",
        "plt.show()"
      ],
      "metadata": {
        "colab": {
          "base_uri": "https://localhost:8080/",
          "height": 472
        },
        "id": "V_-OKhcA7_HA",
        "outputId": "6fde5b30-0abf-4207-9e6f-08134747a755"
      },
      "execution_count": 147,
      "outputs": [
        {
          "output_type": "display_data",
          "data": {
            "text/plain": [
              "<Figure size 640x480 with 1 Axes>"
            ],
            "image/png": "[encoded data removed]"
          },
          "metadata": {}
        }
      ]
    },
    {
      "cell_type": "code",
      "source": [
        "X = np.array([[1, 2], [1, 3], [2, 3], [2, 4], [3, 5]])\n",
        "y = np.array([0, 0, 1, 1, 1])"
      ],
      "metadata": {
        "id": "_vLrYySu5lFr"
      },
      "execution_count": 148,
      "outputs": []
    },
    {
      "cell_type": "code",
      "source": [
        "X.shape"
      ],
      "metadata": {
        "colab": {
          "base_uri": "https://localhost:8080/"
        },
        "id": "04rSd6sQ5z3U",
        "outputId": "f422a1ef-4507-4781-91ad-439c3de23a6a"
      },
      "execution_count": 149,
      "outputs": [
        {
          "output_type": "execute_result",
          "data": {
            "text/plain": [
              "(5, 2)"
            ]
          },
          "metadata": {},
          "execution_count": 149
        }
      ]
    },
    {
      "cell_type": "code",
      "source": [
        "X = np.column_stack((np.ones(X.shape[0]), X))\n",
        "X"
      ],
      "metadata": {
        "colab": {
          "base_uri": "https://localhost:8080/"
        },
        "id": "KOqKkYBi5l3G",
        "outputId": "e66cfde3-6096-48a5-b6bb-d71941a24823"
      },
      "execution_count": 150,
      "outputs": [
        {
          "output_type": "execute_result",
          "data": {
            "text/plain": [
              "array([[1., 1., 2.],\n",
              "       [1., 1., 3.],\n",
              "       [1., 2., 3.],\n",
              "       [1., 2., 4.],\n",
              "       [1., 3., 5.]])"
            ]
          },
          "metadata": {},
          "execution_count": 150
        }
      ]
    },
    {
      "cell_type": "code",
      "source": [
        "num_features = X.shape[1]\n",
        "num_features"
      ],
      "metadata": {
        "colab": {
          "base_uri": "https://localhost:8080/"
        },
        "id": "uV3S2LQd6NoC",
        "outputId": "c4847a8c-5c34-4387-a392-a3baaf0d0560"
      },
      "execution_count": 151,
      "outputs": [
        {
          "output_type": "execute_result",
          "data": {
            "text/plain": [
              "3"
            ]
          },
          "metadata": {},
          "execution_count": 151
        }
      ]
    },
    {
      "cell_type": "code",
      "source": [
        "num_features = X.shape[1]\n",
        "params = initialize_params(num_features)\n",
        "learning_rate = 0.001\n",
        "num_iterations = 1000"
      ],
      "metadata": {
        "id": "-7gy14CQ5ny6"
      },
      "execution_count": 152,
      "outputs": []
    },
    {
      "cell_type": "code",
      "source": [
        "params = gradient_descent(X, y, params, learning_rate, num_iterations)\n",
        "params"
      ],
      "metadata": {
        "colab": {
          "base_uri": "https://localhost:8080/"
        },
        "id": "RaLeSwvX6V86",
        "outputId": "d83f35ae-fc31-4de6-f021-2aca3495a5b1"
      },
      "execution_count": 153,
      "outputs": [
        {
          "output_type": "execute_result",
          "data": {
            "text/plain": [
              "array([-0.04830649,  0.20014291,  0.15010536])"
            ]
          },
          "metadata": {},
          "execution_count": 153
        }
      ]
    },
    {
      "cell_type": "code",
      "source": [
        "x_test = np.array([1, 4])\n",
        "x_test = np.insert(x_test, 0, 1)\n",
        "x_test"
      ],
      "metadata": {
        "colab": {
          "base_uri": "https://localhost:8080/"
        },
        "id": "981zdj5O9_bu",
        "outputId": "f5b400e2-daa5-457e-a07d-892fff6d3be1"
      },
      "execution_count": 154,
      "outputs": [
        {
          "output_type": "execute_result",
          "data": {
            "text/plain": [
              "array([1, 1, 4])"
            ]
          },
          "metadata": {},
          "execution_count": 154
        }
      ]
    },
    {
      "cell_type": "code",
      "source": [
        "y_test_prob = sigmoid(np.dot(x_test, params))\n",
        "y_test_prob"
      ],
      "metadata": {
        "colab": {
          "base_uri": "https://localhost:8080/"
        },
        "id": "dJz3_jpN6Wfr",
        "outputId": "13e5eb0e-5531-46cf-829a-1b5be034c41f"
      },
      "execution_count": 155,
      "outputs": [
        {
          "output_type": "execute_result",
          "data": {
            "text/plain": [
              "0.6796704755545541"
            ]
          },
          "metadata": {},
          "execution_count": 155
        }
      ]
    }
  ]
}