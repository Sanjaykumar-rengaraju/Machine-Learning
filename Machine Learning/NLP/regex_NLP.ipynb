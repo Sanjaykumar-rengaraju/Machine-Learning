{
  "nbformat": 4,
  "nbformat_minor": 0,
  "metadata": {
    "colab": {
      "provenance": []
    },
    "kernelspec": {
      "name": "python3",
      "display_name": "Python 3"
    },
    "language_info": {
      "name": "python"
    }
  },
  "cells": [
    {
      "cell_type": "code",
      "execution_count": 1,
      "metadata": {
        "id": "0VIQ-sYhNLpi"
      },
      "outputs": [],
      "source": [
        "import re"
      ]
    },
    {
      "cell_type": "markdown",
      "source": [
        "https://docs.python.org/3/library/re.html"
      ],
      "metadata": {
        "id": "mnYSyNdYyoUp"
      }
    },
    {
      "cell_type": "markdown",
      "source": [
        "Basic Matching"
      ],
      "metadata": {
        "id": "lz2MSsYTTUEf"
      }
    },
    {
      "cell_type": "code",
      "source": [
        "pattern=r'xyz'\n",
        "text='abcdxyz'\n",
        "match=re.search(pattern,text)\n",
        "if match:\n",
        "  print('Match Found,',match.group())\n",
        "else:\n",
        "  print('No Match')"
      ],
      "metadata": {
        "colab": {
          "base_uri": "https://localhost:8080/"
        },
        "id": "0YFioiYdOtIA",
        "outputId": "20af84d1-f9bf-45c8-9179-921bb63fbf5a"
      },
      "execution_count": 5,
      "outputs": [
        {
          "output_type": "stream",
          "name": "stdout",
          "text": [
            "Match Found, xyz\n"
          ]
        }
      ]
    },
    {
      "cell_type": "markdown",
      "source": [
        "Using Raw Strings (prefixed with r) to avoid backslashes being interpreted as escape characters"
      ],
      "metadata": {
        "id": "ddXZN1fRUbsy"
      }
    },
    {
      "cell_type": "code",
      "source": [
        "pattern=r'\\d+'\n",
        "number='12234abc'\n",
        "match=re.search(pattern,number)\n",
        "if match:\n",
        "  print(match.group())\n",
        "else:\n",
        "  print('no match')"
      ],
      "metadata": {
        "colab": {
          "base_uri": "https://localhost:8080/"
        },
        "id": "SRy_IzZUTe5b",
        "outputId": "f30cb629-e5e4-4d46-e661-406cd14d7769"
      },
      "execution_count": 9,
      "outputs": [
        {
          "output_type": "stream",
          "name": "stdout",
          "text": [
            "12234\n"
          ]
        }
      ]
    },
    {
      "cell_type": "markdown",
      "source": [
        "Matching Special Characters and Metacharacters:\n",
        "1. '.' (dot): Matches any single character except a newline.\n",
        "2.  '*' (asterisk): Matches zero or more occurrences of the previous character or group.\n",
        "3. '+' (plus): Matches one or more occurrences of the previous character or group.\n",
        "4. '?' (question mark): Matches zero or one occurrence of the previous character or group.\n",
        "5. '[]' (character class): Matches any single character within the brackets.\n",
        "6. '|' (pipe): Matches either the pattern before or after the pipe.\n",
        "python\n"
      ],
      "metadata": {
        "id": "pWd8kbh9Vbdu"
      }
    },
    {
      "cell_type": "code",
      "source": [
        "pattern = r\"gr.y\"\n",
        "text='acbgray'\n",
        "match=re.search(pattern,text)\n",
        "if match:\n",
        "  print(match.group())\n",
        "else:\n",
        "  print('No match found')"
      ],
      "metadata": {
        "colab": {
          "base_uri": "https://localhost:8080/"
        },
        "id": "OqIsLtF3VLz2",
        "outputId": "49dc161b-a323-4fd4-f0a1-cb1d66c6d15f"
      },
      "execution_count": 12,
      "outputs": [
        {
          "output_type": "stream",
          "name": "stdout",
          "text": [
            "gray\n"
          ]
        }
      ]
    },
    {
      "cell_type": "code",
      "source": [
        "pattern = r\"gr*y\"\n",
        "text='acbgry'\n",
        "match=re.search(pattern,text)\n",
        "if match:\n",
        "  print(match.group())\n",
        "else:\n",
        "  print('No match found')"
      ],
      "metadata": {
        "colab": {
          "base_uri": "https://localhost:8080/"
        },
        "id": "0vlZ1yu7WFmX",
        "outputId": "67c6e0f0-6426-4f61-cf9f-c27c7bc7f734"
      },
      "execution_count": 21,
      "outputs": [
        {
          "output_type": "stream",
          "name": "stdout",
          "text": [
            "gry\n"
          ]
        }
      ]
    },
    {
      "cell_type": "code",
      "source": [
        "pattern = r\"badgr+y\"\n",
        "text='imbadgry'\n",
        "match=re.search(pattern,text)\n",
        "if match:\n",
        "  print(match.group())\n",
        "else:\n",
        "  print('No match found')"
      ],
      "metadata": {
        "colab": {
          "base_uri": "https://localhost:8080/"
        },
        "id": "CE-wLR2vWSp4",
        "outputId": "10229870-f23b-40b3-8058-2ecc844e58ab"
      },
      "execution_count": 25,
      "outputs": [
        {
          "output_type": "stream",
          "name": "stdout",
          "text": [
            "badgry\n"
          ]
        }
      ]
    },
    {
      "cell_type": "code",
      "source": [
        "pattern = r\"[g]\"\n",
        "text='[acg]'\n",
        "match=re.search(pattern,text)\n",
        "if match:\n",
        "  print(match.group())\n",
        "else:\n",
        "  print('No match found')"
      ],
      "metadata": {
        "colab": {
          "base_uri": "https://localhost:8080/"
        },
        "id": "SCvqLa2nWfYj",
        "outputId": "5e8e69dd-1fca-4318-efaa-117407b6d86b"
      },
      "execution_count": 35,
      "outputs": [
        {
          "output_type": "stream",
          "name": "stdout",
          "text": [
            "g\n"
          ]
        }
      ]
    },
    {
      "cell_type": "code",
      "source": [
        "pattern=r'cold|hot'\n",
        "text='cold as ice'\n",
        "match=re.search(pattern,text)\n",
        "if match:\n",
        "  print(match.group())\n",
        "else:\n",
        "  print('match not found')"
      ],
      "metadata": {
        "colab": {
          "base_uri": "https://localhost:8080/"
        },
        "id": "sPs6Kj8ZYQc1",
        "outputId": "2b1d27ec-94db-4680-adc5-dfdd5845b3f7"
      },
      "execution_count": 36,
      "outputs": [
        {
          "output_type": "stream",
          "name": "stdout",
          "text": [
            "cold\n"
          ]
        }
      ]
    },
    {
      "cell_type": "markdown",
      "source": [
        "Character classes allow you to define a set of characters that can match at a particular position. \n",
        "1. [abc] matches either 'a', 'b', or 'c'.\n",
        "2. [0-9] matches any digit from 0 to 9."
      ],
      "metadata": {
        "id": "WHAR6SthcboU"
      }
    },
    {
      "cell_type": "code",
      "source": [
        "pattern=r'[a-z]'\n",
        "text='b'\n",
        "match=re.search(pattern,text)\n",
        "if match:\n",
        "  print(match.group())\n",
        "else:\n",
        "  print('match not found')"
      ],
      "metadata": {
        "colab": {
          "base_uri": "https://localhost:8080/"
        },
        "id": "TqPvLxngciVY",
        "outputId": "9c0f1374-adba-4f58-8cfe-d61134d9b319"
      },
      "execution_count": 40,
      "outputs": [
        {
          "output_type": "stream",
          "name": "stdout",
          "text": [
            "b\n"
          ]
        }
      ]
    },
    {
      "cell_type": "code",
      "source": [
        "pattern = r\"[aeiou]\"\n",
        "text='ant'\n",
        "match=re.search(pattern,text)\n",
        "if match:\n",
        "  print('vowels',match.group())\n",
        "else:\n",
        "  print('match not found')"
      ],
      "metadata": {
        "colab": {
          "base_uri": "https://localhost:8080/"
        },
        "id": "Do1HXFWAc-J5",
        "outputId": "57d85bd5-24e6-4e01-d56a-fb5f59d1b6b4"
      },
      "execution_count": 43,
      "outputs": [
        {
          "output_type": "stream",
          "name": "stdout",
          "text": [
            "vowels a\n"
          ]
        }
      ]
    },
    {
      "cell_type": "markdown",
      "source": [
        "Quantifiers"
      ],
      "metadata": {
        "id": "bbIHrZjjdeOt"
      }
    },
    {
      "cell_type": "code",
      "source": [
        "pattern = r\"a{3}\"\n",
        "text='scream aaa'\n",
        "match=re.search(pattern,text)\n",
        "if match:\n",
        "  print('True',match.group())\n",
        "else:\n",
        "  print('match not found')"
      ],
      "metadata": {
        "colab": {
          "base_uri": "https://localhost:8080/"
        },
        "id": "rg2yagR9dN2_",
        "outputId": "1b349c47-bdd9-4e6e-f006-35953cfaf1ab"
      },
      "execution_count": 49,
      "outputs": [
        {
          "output_type": "stream",
          "name": "stdout",
          "text": [
            "True aaa\n"
          ]
        }
      ]
    },
    {
      "cell_type": "markdown",
      "source": [
        "Anchors:\n",
        "The caret (^) and dollar sign ($) are anchors that match the start and end of a line or string."
      ],
      "metadata": {
        "id": "HQOdd3h6d4cR"
      }
    },
    {
      "cell_type": "code",
      "source": [
        "pattern = r\"^love\"\n",
        "text='love is blind'\n",
        "match=re.search(pattern,text)\n",
        "if match:\n",
        "  print('found',match.group())\n",
        "else:\n",
        "  print('match not found')"
      ],
      "metadata": {
        "colab": {
          "base_uri": "https://localhost:8080/"
        },
        "id": "QEcygyvbdlY3",
        "outputId": "2acfd1fb-8600-4c4c-bb52-0440f90966a5"
      },
      "execution_count": 56,
      "outputs": [
        {
          "output_type": "stream",
          "name": "stdout",
          "text": [
            "found love\n"
          ]
        }
      ]
    },
    {
      "cell_type": "markdown",
      "source": [
        " Finding All Matches with re.findall()"
      ],
      "metadata": {
        "id": "PPnjJxXfvrIg"
      }
    },
    {
      "cell_type": "code",
      "source": [
        "pattern=r'\\d+'\n",
        "text='i have 23 apples and 4 bananas'\n",
        "matches=re.findall(pattern,text)\n",
        "print(matches)"
      ],
      "metadata": {
        "colab": {
          "base_uri": "https://localhost:8080/"
        },
        "id": "OmyAyE9ovriY",
        "outputId": "79e1f317-3521-4811-fb4f-e81f1ce78a4e"
      },
      "execution_count": 70,
      "outputs": [
        {
          "output_type": "stream",
          "name": "stdout",
          "text": [
            "['23', '4']\n"
          ]
        }
      ]
    },
    {
      "cell_type": "markdown",
      "source": [
        "Groups and Capturing"
      ],
      "metadata": {
        "id": "JmULwdH9eeEH"
      }
    },
    {
      "cell_type": "code",
      "source": [
        "pattern = r\"(\\d+)\"\n",
        "text = \"First number: 123, Second number: 456\"\n",
        "matches = re.findall(pattern, text)\n",
        "\n",
        "if matches:\n",
        "    print(\"Matches found!\")\n",
        "    print(\"Matched numbers:\", matches)\n",
        "else:\n",
        "    print(\"No match.\")\n"
      ],
      "metadata": {
        "colab": {
          "base_uri": "https://localhost:8080/"
        },
        "id": "yCMz04GheJAh",
        "outputId": "b1f73393-5bb7-418b-85d6-38793ee0228c"
      },
      "execution_count": 71,
      "outputs": [
        {
          "output_type": "stream",
          "name": "stdout",
          "text": [
            "Matches found!\n",
            "Matched numbers: ['123', '456']\n"
          ]
        }
      ]
    },
    {
      "cell_type": "markdown",
      "source": [
        "Backreferences-  allow you to refer to a previously captured group"
      ],
      "metadata": {
        "id": "lNLAO5aKtwKh"
      }
    },
    {
      "cell_type": "code",
      "source": [
        "import re\n",
        "pattern = r\"(\\d+)-\\1\"  \n",
        "text = \"123-123, 456-456, 789-123\"\n",
        "\n",
        "matches = re.findall(pattern, text)\n",
        "if matches:\n",
        "    print(\"Matches found!\")\n",
        "    for match in matches:\n",
        "        print(\"Matched pattern:\", match)\n",
        "else:\n",
        "    print(\"No match.\")"
      ],
      "metadata": {
        "colab": {
          "base_uri": "https://localhost:8080/"
        },
        "id": "IiSgRMXPopgw",
        "outputId": "ebb095e1-75a6-4535-a910-499fa4c57ddd"
      },
      "execution_count": 72,
      "outputs": [
        {
          "output_type": "stream",
          "name": "stdout",
          "text": [
            "Matches found!\n",
            "Matched pattern: 123\n",
            "Matched pattern: 456\n"
          ]
        }
      ]
    },
    {
      "cell_type": "markdown",
      "source": [
        "Splitting with re.split()"
      ],
      "metadata": {
        "id": "fYLyXIESv15Q"
      }
    },
    {
      "cell_type": "code",
      "source": [
        "pattern=r'\\s+'\n",
        "text='Hello Sakthi'\n",
        "split=re.split(pattern,text)\n",
        "print(split)"
      ],
      "metadata": {
        "colab": {
          "base_uri": "https://localhost:8080/"
        },
        "id": "_7sO7y1gvjLn",
        "outputId": "6a677a96-e86d-426e-d3c2-085cee806ae9"
      },
      "execution_count": 73,
      "outputs": [
        {
          "output_type": "stream",
          "name": "stdout",
          "text": [
            "['Hello', 'Sakthi']\n"
          ]
        }
      ]
    },
    {
      "cell_type": "markdown",
      "source": [
        "Substituting with re.sub()"
      ],
      "metadata": {
        "id": "1CuBlDWsw9wI"
      }
    },
    {
      "cell_type": "code",
      "source": [
        "pattern = r\"apple\"\n",
        "text = \"I have an apple.\"\n",
        "replacement = \"banana\"\n",
        "new_text = re.sub(pattern, replacement, text)\n",
        "print(new_text) "
      ],
      "metadata": {
        "colab": {
          "base_uri": "https://localhost:8080/"
        },
        "id": "EZ-294tgwCNw",
        "outputId": "641d57fd-596e-447b-cfc3-3f55c6b4d5c5"
      },
      "execution_count": 74,
      "outputs": [
        {
          "output_type": "stream",
          "name": "stdout",
          "text": [
            "I have an banana.\n"
          ]
        }
      ]
    },
    {
      "cell_type": "markdown",
      "source": [
        "Compiling Regular Expressions- Regular expressions can be compiled into pattern objects using re.compile()"
      ],
      "metadata": {
        "id": "oKR5wP_WxMDp"
      }
    },
    {
      "cell_type": "code",
      "source": [
        "pattern = re.compile(r\"apple\")\n",
        "text = \"I have an apple.\"\n",
        "match = pattern.search(text)\n",
        "print(match)"
      ],
      "metadata": {
        "colab": {
          "base_uri": "https://localhost:8080/"
        },
        "id": "_LPmYZdLxA7V",
        "outputId": "b88c0d37-f23d-4d13-ffac-7336f6db6305"
      },
      "execution_count": 75,
      "outputs": [
        {
          "output_type": "stream",
          "name": "stdout",
          "text": [
            "<re.Match object; span=(10, 15), match='apple'>\n"
          ]
        }
      ]
    },
    {
      "cell_type": "markdown",
      "source": [
        "Greedy Matching"
      ],
      "metadata": {
        "id": "BxtvM8MHx3wQ"
      }
    },
    {
      "cell_type": "code",
      "source": [
        "text = \"Hello, world!\"\n",
        "pattern = r\"H.*o\"\n",
        "match = re.search(pattern, text)\n",
        "if match:\n",
        "    print(\"Greedy match:\", match.group())\n",
        "else:\n",
        "    print(\"No match.\")\n"
      ],
      "metadata": {
        "colab": {
          "base_uri": "https://localhost:8080/"
        },
        "id": "F1wRfDkvxSwK",
        "outputId": "cad216e8-7790-4e1b-e7ce-59571b748f08"
      },
      "execution_count": 76,
      "outputs": [
        {
          "output_type": "stream",
          "name": "stdout",
          "text": [
            "Greedy match: Hello, wo\n"
          ]
        }
      ]
    },
    {
      "cell_type": "markdown",
      "source": [
        "Non-Greedy (Lazy) Matching:"
      ],
      "metadata": {
        "id": "jx0Ga96lyEdp"
      }
    },
    {
      "cell_type": "code",
      "source": [
        "text = \"Hello, world!\"\n",
        "pattern = r\"H.*?o\"\n",
        "match = re.search(pattern, text)\n",
        "if match:\n",
        "    print(\"Non-greedy match:\", match.group())\n",
        "else:\n",
        "    print(\"No match.\")\n"
      ],
      "metadata": {
        "colab": {
          "base_uri": "https://localhost:8080/"
        },
        "id": "SSdn9980x-P1",
        "outputId": "333634c5-79fe-4fb2-ffab-71f7657e35ed"
      },
      "execution_count": 77,
      "outputs": [
        {
          "output_type": "stream",
          "name": "stdout",
          "text": [
            "Non-greedy match: Hello\n"
          ]
        }
      ]
    },
    {
      "cell_type": "markdown",
      "source": [
        "Escaping Special Characters"
      ],
      "metadata": {
        "id": "P_UUcq8LyUnp"
      }
    },
    {
      "cell_type": "code",
      "source": [
        "pattern = r\"\\.\"\n",
        "text = \"Hello. World.\"\n",
        "match = re.search(pattern, text)\n",
        "print(match.group())"
      ],
      "metadata": {
        "colab": {
          "base_uri": "https://localhost:8080/"
        },
        "id": "Zv5tOdhSyVCQ",
        "outputId": "8bc767b8-421a-422c-c00d-88178e30177d"
      },
      "execution_count": 78,
      "outputs": [
        {
          "output_type": "stream",
          "name": "stdout",
          "text": [
            ".\n"
          ]
        }
      ]
    }
  ]
}